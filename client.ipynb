{
 "cells": [
  {
   "cell_type": "code",
   "execution_count": 30,
   "metadata": {},
   "outputs": [],
   "source": [
    "import requests "
   ]
  },
  {
   "cell_type": "code",
   "execution_count": 31,
   "metadata": {},
   "outputs": [],
   "source": [
    "response=requests.post(\n",
    "    \"http://localhost:8000/essay/invoke\",\n",
    "    json={'input':{'topic':\"my best friend\"}})"
   ]
  },
  {
   "cell_type": "code",
   "execution_count": 32,
   "metadata": {},
   "outputs": [
    {
     "name": "stdout",
     "output_type": "stream",
     "text": [
      "Title: My Best Friend: A Treasure Beyond Measure\n",
      "\n",
      "Introduction:\n",
      "Friendship is a precious bond that enriches our lives and brings immense joy and support. Among the many friends we encounter throughout our journey, there is always that one special person who stands out from the rest. For me, that person is my best friend. We have shared countless memories, laughter, and tears, making our friendship an invaluable treasure that I cherish dearly.\n",
      "\n",
      "Body:\n",
      "\n",
      "Firstly, my best friend possesses an extraordinary ability to understand and empathize with me. They have an innate sense of intuition, which allows them to comprehend my thoughts and emotions even before I express them. Whether I am overjoyed or feeling down, they are always there to lend a listening ear and offer comforting words. Their unwavering support has been a constant source of strength, helping me navigate through life's challenges with confidence.\n",
      "\n",
      "Furthermore, my best friend possesses an infectious sense of humor that can brighten even the gloomiest of days. Their witty remarks and playful banter never fail to bring a smile to my face. We share countless inside jokes and hilarious memories that have become an integral part of our friendship. Their ability to find humor in the simplest of situations has taught me to appreciate the lighter side of life and not take things too seriously.\n",
      "\n",
      "Moreover, my best friend is incredibly trustworthy and reliable. They have proven time and again that I can confide in them without fear of judgment or betrayal. Their loyalty is unwavering, and I know that I can always count on them to have my back. Whether it is a shoulder to cry on or a partner in crime, they are always there, ready to support me through thick and thin.\n",
      "\n",
      "Additionally, my best friend possesses a unique perspective on life that constantly inspires me. They encourage me to step out of my comfort zone and embrace new experiences. Their adventurous spirit has pushed me to overcome my fears and discover hidden talents within myself. With their guidance, I have grown as an individual, broadening my horizons and embracing the beauty of the unknown.\n",
      "\n",
      "Conclusion:\n",
      "\n",
      "In conclusion, my best friend is a treasure beyond measure. Their understanding, humor, trustworthiness, and inspiration have shaped me into the person I am today. They have been my rock during the toughest times and my partner in creating unforgettable memories. Our friendship is a testament to the power of genuine connections and the impact they can have on our lives. I am eternally grateful for their presence in my life and look forward to many more years of laughter, love, and shared adventures.\n"
     ]
    }
   ],
   "source": [
    "print(response.json()['output']['content'])"
   ]
  },
  {
   "cell_type": "code",
   "execution_count": null,
   "metadata": {},
   "outputs": [],
   "source": []
  }
 ],
 "metadata": {
  "kernelspec": {
   "display_name": "Python 3.9.7 ('base')",
   "language": "python",
   "name": "python3"
  },
  "language_info": {
   "codemirror_mode": {
    "name": "ipython",
    "version": 3
   },
   "file_extension": ".py",
   "mimetype": "text/x-python",
   "name": "python",
   "nbconvert_exporter": "python",
   "pygments_lexer": "ipython3",
   "version": "3.9.7"
  },
  "orig_nbformat": 4,
  "vscode": {
   "interpreter": {
    "hash": "1448b48b023bcc9c3d4a79e814720a10ca6d4244f75e0f7ce4af58f96ba2b7d3"
   }
  }
 },
 "nbformat": 4,
 "nbformat_minor": 2
}
